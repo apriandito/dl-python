{
  "nbformat": 4,
  "nbformat_minor": 0,
  "metadata": {
    "colab": {
      "name": "ANN - Predicting Customer Churn",
      "provenance": [],
      "collapsed_sections": [],
      "authorship_tag": "ABX9TyOrwe2StDtoelWKkU2o52aJ",
      "include_colab_link": true
    },
    "kernelspec": {
      "name": "python3",
      "display_name": "Python 3"
    },
    "language_info": {
      "name": "python"
    }
  },
  "cells": [
    {
      "cell_type": "markdown",
      "metadata": {
        "id": "view-in-github",
        "colab_type": "text"
      },
      "source": [
        "<a href=\"https://colab.research.google.com/github/apriandito/dl-python/blob/main/ANN_Predicting_Customer_Churn.ipynb\" target=\"_parent\"><img src=\"https://colab.research.google.com/assets/colab-badge.svg\" alt=\"Open In Colab\"/></a>"
      ]
    },
    {
      "cell_type": "markdown",
      "metadata": {
        "id": "y1XrNr3Vxq1J"
      },
      "source": [
        "## **Predicting Customer Churn**"
      ]
    },
    {
      "cell_type": "markdown",
      "metadata": {
        "id": "3vi5l_FoyDAw"
      },
      "source": [
        "### **Import Packages**"
      ]
    },
    {
      "cell_type": "code",
      "metadata": {
        "id": "cRlOUvOtfNyk"
      },
      "source": [
        "# Import Packages\n",
        "import pandas as pd\n",
        "import matplotlib.pyplot as plt\n",
        "\n",
        "\n",
        "# Import Modules\n",
        "from sklearn.model_selection import train_test_split\n",
        "from sklearn.neural_network import MLPClassifier\n",
        "from sklearn.preprocessing import OneHotEncoder\n",
        "from sklearn.preprocessing import MinMaxScaler\n",
        "from sklearn import metrics"
      ],
      "execution_count": null,
      "outputs": []
    },
    {
      "cell_type": "markdown",
      "metadata": {
        "id": "mDFIaerJ1M-o"
      },
      "source": [
        "### **Load Data**"
      ]
    },
    {
      "cell_type": "code",
      "metadata": {
        "id": "9iqT06u3fvJu"
      },
      "source": [
        "# Import the files to Google Colab\n",
        "url = 'https://raw.githubusercontent.com/rc-dbe/bigdatacertification/master/dataset/churn.csv'\n",
        "df = pd.read_csv(url, sep=';',)"
      ],
      "execution_count": null,
      "outputs": []
    },
    {
      "cell_type": "code",
      "metadata": {
        "id": "yzQPrw2W01nw"
      },
      "source": [
        "# Show 5 first row\n",
        "df.head()"
      ],
      "execution_count": null,
      "outputs": []
    },
    {
      "cell_type": "code",
      "metadata": {
        "id": "I8hX7pRW1Rdp"
      },
      "source": [
        "# Show data information\n",
        "df.info()"
      ],
      "execution_count": null,
      "outputs": []
    },
    {
      "cell_type": "markdown",
      "metadata": {
        "id": "VDIFBmAQ1T5W"
      },
      "source": [
        "### **Data Preprocessing**"
      ]
    },
    {
      "cell_type": "markdown",
      "metadata": {
        "id": "wbxUuAus2Fy2"
      },
      "source": [
        "##### **Handling Missing Values**"
      ]
    },
    {
      "cell_type": "code",
      "metadata": {
        "id": "WZgZ4mE_2BGZ"
      },
      "source": [
        "# Search for Median Value\n",
        "median = df['TotalCharges'].median()\n",
        "\n",
        "# Use Median to Replace Missing Values\n",
        "df['TotalCharges'].fillna(median, inplace=True)\n",
        "\n",
        "# Check for Missing Values\n",
        "df.info()"
      ],
      "execution_count": null,
      "outputs": []
    },
    {
      "cell_type": "markdown",
      "metadata": {
        "id": "8JM9afUm2Qzd"
      },
      "source": [
        "##### **Encode Categorical Variable**"
      ]
    },
    {
      "cell_type": "code",
      "metadata": {
        "id": "XytgkJc22QJ4"
      },
      "source": [
        "# Encoder\n",
        "encoder = OneHotEncoder(sparse=False)\n",
        "\n",
        "# Encode Categorical Data\n",
        "df2 = pd.DataFrame(encoder.fit_transform(df[['gender', 'SeniorCitizen', 'Partner',\t'Dependents',\t'PhoneService', 'InternetService',\t'MultipleLines',\t'OnlineSecurity',\t'OnlineBackup',\t'DeviceProtection',\t'TechSupport',\t'StreamingTV',\t'StreamingMovies', 'Contract',\t'PaperlessBilling', 'PaymentMethod']]))\n",
        "df2.columns = encoder.get_feature_names(['gender', 'SeniorCitizen', 'Partner',\t'Dependents',\t'PhoneService', 'InternetService',\t'MultipleLines',\t'OnlineSecurity',\t'OnlineBackup',\t'DeviceProtection',\t'TechSupport',\t'StreamingTV',\t'StreamingMovies', 'Contract',\t'PaperlessBilling', 'PaymentMethod'])\n",
        "\n",
        "# Replace Categorical Data with Encoded Data\n",
        "df_encoded = df.drop(['gender', 'SeniorCitizen', 'Partner',\t'Dependents',\t'PhoneService', 'InternetService',\t'MultipleLines',\t'OnlineSecurity',\t'OnlineBackup',\t'DeviceProtection',\t'TechSupport',\t'StreamingTV',\t'StreamingMovies', 'Contract',\t'PaperlessBilling', 'PaymentMethod'] ,axis=1, inplace=True)\n",
        "df_encoded = pd.concat([df, df2], axis=1)\n",
        "\n",
        "# Replace Churn Values\n",
        "df_encoded['Churn'].replace(['No','Yes'],[0,1],inplace=True)\n",
        "\n",
        "# Drop Unwanted Column\n",
        "df_encoded = df_encoded.drop(\"customerID\", axis=1)"
      ],
      "execution_count": null,
      "outputs": []
    },
    {
      "cell_type": "code",
      "metadata": {
        "id": "f_JGT3EN5P26"
      },
      "source": [
        "# Show Encoded Dataframe\n",
        "df_encoded.head()"
      ],
      "execution_count": null,
      "outputs": []
    },
    {
      "cell_type": "markdown",
      "metadata": {
        "id": "0EYKFwdB2s1h"
      },
      "source": [
        "##### **Normalization**"
      ]
    },
    {
      "cell_type": "code",
      "metadata": {
        "id": "_bbL6szIf2fv"
      },
      "source": [
        "# Select Columns\n",
        "column_names = df_encoded.columns.tolist()\n",
        "column_names.remove('Churn')\n",
        "column_names\n",
        "\n",
        "# Initialize min-max scaler\n",
        "mm_scaler = MinMaxScaler()\n",
        "df_norm = df_encoded.copy()\n",
        "\n",
        "# Transform all attributes\n",
        "df_norm[column_names] = mm_scaler.fit_transform(df_norm[column_names])\n",
        "df_norm.sort_index(inplace=True)"
      ],
      "execution_count": null,
      "outputs": []
    },
    {
      "cell_type": "code",
      "metadata": {
        "id": "VJlH874_fzyZ"
      },
      "source": [
        "# Show Normalized Dataframe\n",
        "df_norm.head()"
      ],
      "execution_count": null,
      "outputs": []
    },
    {
      "cell_type": "markdown",
      "metadata": {
        "id": "5GcGI6oW2-q_"
      },
      "source": [
        "### **Set Feature**"
      ]
    },
    {
      "cell_type": "code",
      "metadata": {
        "id": "rdEKgs54f48A"
      },
      "source": [
        "# Selecting the Feature, by remove the unused feature \n",
        "feature = ['Churn']\n",
        "train_feature = df_norm.drop(feature, axis=1)\n",
        "\n",
        "# Set The Target\n",
        "train_target = df_norm[\"Churn\"]"
      ],
      "execution_count": null,
      "outputs": []
    },
    {
      "cell_type": "code",
      "metadata": {
        "id": "tujBVMGaf-Ng"
      },
      "source": [
        "# Show the feature\n",
        "train_feature.head(5)"
      ],
      "execution_count": null,
      "outputs": []
    },
    {
      "cell_type": "markdown",
      "metadata": {
        "id": "CrUJWGvW3GQo"
      },
      "source": [
        "### **Split Data**"
      ]
    },
    {
      "cell_type": "code",
      "metadata": {
        "id": "dlIcLxC8gApB"
      },
      "source": [
        "# Split data\n",
        "X_train, X_test, y_train, y_test = train_test_split(train_feature ,train_target, shuffle = True, test_size=0.3, random_state=1)"
      ],
      "execution_count": null,
      "outputs": []
    },
    {
      "cell_type": "code",
      "metadata": {
        "id": "-HxfTS9ZgEQi"
      },
      "source": [
        "# Show the training data\n",
        "X_train.head()"
      ],
      "execution_count": null,
      "outputs": []
    },
    {
      "cell_type": "markdown",
      "metadata": {
        "id": "2zSDhtCg3Ih3"
      },
      "source": [
        "### **Training**"
      ]
    },
    {
      "cell_type": "code",
      "metadata": {
        "id": "3uNCIPOJgGSK"
      },
      "source": [
        "# Fitting Model\n",
        "mlp = MLPClassifier(hidden_layer_sizes=(5,5,5), \n",
        "                    activation = 'relu',\n",
        "                    solver = 'adam',\n",
        "                    max_iter= 10000,\n",
        "                    verbose = True).fit(X_train,y_train)"
      ],
      "execution_count": null,
      "outputs": []
    },
    {
      "cell_type": "code",
      "metadata": {
        "id": "4gP9NYkygIwJ"
      },
      "source": [
        "print('Number of Layer =', mlp.n_layers_)\n",
        "print('Number of Iteration =', mlp.n_iter_)\n",
        "print('Current loss computed with the loss function =', mlp.loss_)"
      ],
      "execution_count": null,
      "outputs": []
    },
    {
      "cell_type": "markdown",
      "metadata": {
        "id": "Z1iQN-cn3TZV"
      },
      "source": [
        "### **Evaluation**"
      ]
    },
    {
      "cell_type": "code",
      "metadata": {
        "id": "0bJMT2Zs5_xF"
      },
      "source": [
        "# Prediction to Test Dataset\n",
        "y_pred = mlp.predict(X_test)"
      ],
      "execution_count": null,
      "outputs": []
    },
    {
      "cell_type": "code",
      "metadata": {
        "id": "aBjn9BVkgM2i"
      },
      "source": [
        "# Confussion Matrix\n",
        "cnf_matrix = metrics.confusion_matrix(y_test, y_pred)\n",
        "cnf_matrix"
      ],
      "execution_count": null,
      "outputs": []
    },
    {
      "cell_type": "code",
      "metadata": {
        "id": "2zp47SKggNxa"
      },
      "source": [
        "# Show the Accuracy, Precision, Recall, and F1 Score\n",
        "print(\"Accuracy:\", metrics.accuracy_score(y_test, y_pred))\n",
        "print(\"Precision:\", metrics.precision_score(y_test, y_pred))\n",
        "print(\"Recall:\", metrics.recall_score(y_test, y_pred))\n",
        "print(\"F1 Score:\", metrics.f1_score(y_test, y_pred))"
      ],
      "execution_count": null,
      "outputs": []
    },
    {
      "cell_type": "code",
      "metadata": {
        "id": "7uTfjiSA8bd8"
      },
      "source": [
        "# Set Size and Style\n",
        "plt.rcParams['figure.figsize'] = (10, 10)\n",
        "plt.style.use('ggplot')\n",
        "\n",
        "# ROC Curve\n",
        "y_pred_proba = mlp.predict_proba(X_test)[::,1]\n",
        "fpr, tpr, _ = metrics.roc_curve(y_test,  y_pred)\n",
        "auc = metrics.roc_auc_score(y_test, y_pred_proba)\n",
        "plt.plot(fpr,tpr,label=\"MLP, auc=\"+str(auc))\n",
        "plt.title('ROC Curve - MLP')\n",
        "plt.xlabel('false positive rate') \n",
        "plt.ylabel('true positive rate')\n",
        "plt.legend(loc=4)\n",
        "plt.show()"
      ],
      "execution_count": null,
      "outputs": []
    }
  ]
}