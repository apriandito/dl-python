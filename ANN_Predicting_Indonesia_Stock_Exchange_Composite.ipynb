{
  "nbformat": 4,
  "nbformat_minor": 0,
  "metadata": {
    "colab": {
      "name": "ANN - Predicting Indonesia Stock Exchange Composite",
      "provenance": [],
      "collapsed_sections": [],
      "authorship_tag": "ABX9TyPptoULJMdSNas+m6hfB0O6",
      "include_colab_link": true
    },
    "kernelspec": {
      "name": "python3",
      "display_name": "Python 3"
    },
    "language_info": {
      "name": "python"
    }
  },
  "cells": [
    {
      "cell_type": "markdown",
      "metadata": {
        "id": "view-in-github",
        "colab_type": "text"
      },
      "source": [
        "<a href=\"https://colab.research.google.com/github/apriandito/dl-python/blob/main/ANN_Predicting_Indonesia_Stock_Exchange_Composite.ipynb\" target=\"_parent\"><img src=\"https://colab.research.google.com/assets/colab-badge.svg\" alt=\"Open In Colab\"/></a>"
      ]
    },
    {
      "cell_type": "markdown",
      "metadata": {
        "id": "wcE_3aurttXt"
      },
      "source": [
        "## **Predicting Indonesia Stock Exchange Composite**"
      ]
    },
    {
      "cell_type": "markdown",
      "metadata": {
        "id": "Gx8bVK13t8xg"
      },
      "source": [
        "### **Import Packages**"
      ]
    },
    {
      "cell_type": "code",
      "metadata": {
        "id": "32ysSwQRhnB3"
      },
      "source": [
        "# Import Packages\n",
        "import pandas as pd\n",
        "import numpy as np\n",
        "\n",
        "# Import Modules\n",
        "from sklearn.neural_network import MLPRegressor\n",
        "from sklearn.model_selection import train_test_split\n",
        "from sklearn.metrics import mean_squared_error, r2_score, mean_absolute_error"
      ],
      "execution_count": null,
      "outputs": []
    },
    {
      "cell_type": "markdown",
      "metadata": {
        "id": "HhNN8Ncuwlfq"
      },
      "source": [
        "### **Load Data**"
      ]
    },
    {
      "cell_type": "code",
      "metadata": {
        "id": "m__vfsANjF-1"
      },
      "source": [
        "# Import the files to Google Colab\n",
        "url = 'https://raw.githubusercontent.com/apriandito/dl-python/main/data/idx.csv'\n",
        "df = pd.read_csv(url, sep=',',)"
      ],
      "execution_count": null,
      "outputs": []
    },
    {
      "cell_type": "code",
      "metadata": {
        "id": "BrTtHw0fuuBv"
      },
      "source": [
        "# Show the 5 first row\n",
        "df.head()"
      ],
      "execution_count": null,
      "outputs": []
    },
    {
      "cell_type": "code",
      "metadata": {
        "id": "1al6aphKjXP-"
      },
      "source": [
        "# Show data information\n",
        "df.info()"
      ],
      "execution_count": null,
      "outputs": []
    },
    {
      "cell_type": "markdown",
      "metadata": {
        "id": "4Sdzx_P1w2W_"
      },
      "source": [
        "### **Set Feature**"
      ]
    },
    {
      "cell_type": "code",
      "metadata": {
        "id": "fVM2eIrTkBjL"
      },
      "source": [
        "# Selecting feature, by remove the unused feature \n",
        "feature = ['idx', 'date']\n",
        "train_feature = df.drop(feature, axis=1)\n",
        "\n",
        "# Set target\n",
        "train_target = df['idx']"
      ],
      "execution_count": null,
      "outputs": []
    },
    {
      "cell_type": "markdown",
      "metadata": {
        "id": "7EhEdO3Ow657"
      },
      "source": [
        "### **Split Data**"
      ]
    },
    {
      "cell_type": "code",
      "metadata": {
        "id": "QFDRgSSIju3f"
      },
      "source": [
        "# Split Data\n",
        "X_train, X_test, y_train, y_test = train_test_split(train_feature ,train_target, shuffle = True, test_size=0.3, random_state=1)"
      ],
      "execution_count": null,
      "outputs": []
    },
    {
      "cell_type": "markdown",
      "metadata": {
        "id": "10sK0NKTw-H9"
      },
      "source": [
        "### **Training**"
      ]
    },
    {
      "cell_type": "code",
      "metadata": {
        "id": "HLMdijESkeA2"
      },
      "source": [
        "# Set model and training\n",
        "mlp = MLPRegressor(hidden_layer_sizes=(5,5), \n",
        "                    activation = 'relu', \n",
        "                    solver = 'adam', \n",
        "                    max_iter= 50000, \n",
        "                    verbose = True).fit(X_train, y_train)"
      ],
      "execution_count": null,
      "outputs": []
    },
    {
      "cell_type": "code",
      "metadata": {
        "id": "KpMxPdFMmHhO"
      },
      "source": [
        "# Print model\n",
        "print('Number of Layer =', mlp.n_layers_)\n",
        "print('Number of Iteration =', mlp.n_iter_)\n",
        "print('Current loss computed with the loss function =', mlp.loss_)"
      ],
      "execution_count": null,
      "outputs": []
    },
    {
      "cell_type": "markdown",
      "metadata": {
        "id": "uGyWhU0ZxEIK"
      },
      "source": [
        "### **Evaluation**"
      ]
    },
    {
      "cell_type": "code",
      "metadata": {
        "id": "CarA0JFckoxq"
      },
      "source": [
        "# Make a prediction to test data\n",
        "y_pred = mlp.predict(X_test)\n",
        "y_pred"
      ],
      "execution_count": null,
      "outputs": []
    },
    {
      "cell_type": "code",
      "metadata": {
        "id": "OXmlMdlJxE_e"
      },
      "source": [
        "# Define MAPE function\n",
        "def mape(y_test, y_pred):\n",
        "    return np.mean(np.abs((y_pred - y_test) / y_test)) * 100"
      ],
      "execution_count": null,
      "outputs": []
    },
    {
      "cell_type": "code",
      "metadata": {
        "id": "WxhoneR-vzDi"
      },
      "source": [
        "# Evaluation\n",
        "print('MAE =', mean_absolute_error(y_test, y_pred))\n",
        "print('RMSE', mean_squared_error(y_test, y_pred))\n",
        "print('R2 =', r2_score(y_test, y_pred))\n",
        "print('MAPE', mape(y_test, y_pred))"
      ],
      "execution_count": null,
      "outputs": []
    }
  ]
}